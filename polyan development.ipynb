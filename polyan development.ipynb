{
 "cells": [
  {
   "cell_type": "code",
   "execution_count": 4,
   "metadata": {},
   "outputs": [],
   "source": [
    "import polyan\n",
    "import pandas as pd\n",
    "import imp"
   ]
  },
  {
   "cell_type": "markdown",
   "metadata": {},
   "source": [
    "<h1>RNA reference for HEK293 cells</h1>\n",
    "<p>The RNA reference file for HEK293 cells wwas put together by normalising and averaging counts from GEO datasets GSE126682, GSE145486 and GSE133091</p>"
   ]
  },
  {
   "cell_type": "markdown",
   "metadata": {},
   "source": [
    "<h1>Parameter sets</h1>\n",
    "<p>The parameter sets for specific organisms are stored in json format in 'parameters.json'. This file can be edited in the cell below.</p>"
   ]
  },
  {
   "cell_type": "code",
   "execution_count": 177,
   "metadata": {},
   "outputs": [],
   "source": [
    "import json"
   ]
  },
  {
   "cell_type": "code",
   "execution_count": 194,
   "metadata": {},
   "outputs": [],
   "source": [
    "parameters = {'Scer': {'Species':'Saccharomyces cerevisiae','RNA_content':60000,'Ribo_content':200000,'frac_act':0.85,'frac_split':0.3,'gene_reference':'Data/sacCer3.csv','RNA_reference':'Data/Scer_RNA_reference.csv'},\n",
    "             'HEK': {'Species':'HEK293 cell line','RNA_content':300000,'Ribo_content':2000000,'frac_act':0.85,'frac_split':0.3,'gene_reference':'Data/GRCh38.csv','RNA_reference':'Data/HEK_RNA_reference.csv'}}\n",
    "with open(\"Data/parameters.json\", \"w\") as write_file:\n",
    "    json.dump(parameters, write_file)"
   ]
  },
  {
   "cell_type": "code",
   "execution_count": 195,
   "metadata": {},
   "outputs": [
    {
     "data": {
      "text/plain": [
       "{'Scer': {'Species': 'Saccharomyces cerevisiae',\n",
       "  'RNA_content': 60000,\n",
       "  'Ribo_content': 200000,\n",
       "  'frac_act': 0.85,\n",
       "  'frac_split': 0.3,\n",
       "  'gene_reference': 'Data/sacCer3.csv',\n",
       "  'RNA_reference': 'Data/Scer_RNA_reference.csv'},\n",
       " 'HEK': {'Species': 'HEK293 cell line',\n",
       "  'RNA_content': 300000,\n",
       "  'Ribo_content': 2000000,\n",
       "  'frac_act': 0.85,\n",
       "  'frac_split': 0.3,\n",
       "  'gene_reference': 'Data/GRCh38.csv',\n",
       "  'RNA_reference': 'Data/HEK_RNA_reference.csv'}}"
      ]
     },
     "execution_count": 195,
     "metadata": {},
     "output_type": "execute_result"
    }
   ],
   "source": [
    "with open(\"Data/parameters.json\", \"r\") as read_file:\n",
    "    reloaded_params = json.load(read_file)\n",
    "reloaded_params"
   ]
  },
  {
   "cell_type": "code",
   "execution_count": null,
   "metadata": {},
   "outputs": [],
   "source": []
  },
  {
   "cell_type": "code",
   "execution_count": 1,
   "metadata": {},
   "outputs": [
    {
     "ename": "NameError",
     "evalue": "name 'imp' is not defined",
     "output_type": "error",
     "traceback": [
      "\u001b[1;31m---------------------------------------------------------------------------\u001b[0m",
      "\u001b[1;31mNameError\u001b[0m                                 Traceback (most recent call last)",
      "\u001b[1;32m<ipython-input-1-02fd8846768e>\u001b[0m in \u001b[0;36m<module>\u001b[1;34m\u001b[0m\n\u001b[1;32m----> 1\u001b[1;33m \u001b[0mimp\u001b[0m\u001b[1;33m.\u001b[0m\u001b[0mreload\u001b[0m\u001b[1;33m(\u001b[0m\u001b[0mpolyan\u001b[0m\u001b[1;33m)\u001b[0m\u001b[1;33m\u001b[0m\u001b[1;33m\u001b[0m\u001b[0m\n\u001b[0m\u001b[0;32m      2\u001b[0m \u001b[1;31m#help(polyan)\u001b[0m\u001b[1;33m\u001b[0m\u001b[1;33m\u001b[0m\u001b[1;33m\u001b[0m\u001b[0m\n",
      "\u001b[1;31mNameError\u001b[0m: name 'imp' is not defined"
     ]
    }
   ],
   "source": [
    "imp.reload(polyan)\n",
    "#help(polyan)"
   ]
  },
  {
   "cell_type": "code",
   "execution_count": 5,
   "metadata": {},
   "outputs": [
    {
     "name": "stdout",
     "output_type": "stream",
     "text": [
      "Using parameterset for Saccharomyces cerevisiae\n"
     ]
    },
    {
     "data": {
      "text/plain": [
       "array([0.0168028 , 0.0326172 , 0.23470216, 0.11877209, 0.08450321,\n",
       "       0.06545343, 0.05271728, 0.0470091 , 0.03946191, 0.0338859 ,\n",
       "       0.02345391, 0.01466752, 0.0185026 , 0.0237597 , 0.00940592,\n",
       "       0.01332604, 0.01660487, 0.01595355, 0.02336208, 0.01075184,\n",
       "       0.00523158, 0.00562212, 0.00794019, 0.01157312, 0.00892052,\n",
       "       0.02264152, 0.0081853 , 0.00405131, 0.00212126, 0.00910581,\n",
       "       0.00787229, 0.01102187])"
      ]
     },
     "execution_count": 5,
     "metadata": {},
     "output_type": "execute_result"
    }
   ],
   "source": [
    "GSE34082 = pd.read_csv('Data/GSE34082.csv')\n",
    "polyan.fp2poly(GSE34082,parset='Scer')"
   ]
  },
  {
   "cell_type": "code",
   "execution_count": 7,
   "metadata": {},
   "outputs": [],
   "source": [
    "test = pd.read_csv('Data/GSE45366_all_data.csv')"
   ]
  },
  {
   "cell_type": "code",
   "execution_count": 11,
   "metadata": {},
   "outputs": [
    {
     "data": {
      "text/html": [
       "<div>\n",
       "<style scoped>\n",
       "    .dataframe tbody tr th:only-of-type {\n",
       "        vertical-align: middle;\n",
       "    }\n",
       "\n",
       "    .dataframe tbody tr th {\n",
       "        vertical-align: top;\n",
       "    }\n",
       "\n",
       "    .dataframe thead th {\n",
       "        text-align: right;\n",
       "    }\n",
       "</style>\n",
       "<table border=\"1\" class=\"dataframe\">\n",
       "  <thead>\n",
       "    <tr style=\"text-align: right;\">\n",
       "      <th></th>\n",
       "      <th>ORF</th>\n",
       "      <th>WT_Ribo</th>\n",
       "      <th>WT_RNA</th>\n",
       "      <th>elp3_Ribo</th>\n",
       "      <th>elp3_RNA</th>\n",
       "      <th>ncs2_Ribo</th>\n",
       "      <th>ncs2_RNA</th>\n",
       "      <th>ncs6_Ribo</th>\n",
       "      <th>ncs6_RNA</th>\n",
       "      <th>uba4_Ribo</th>\n",
       "      <th>uba4_RNA</th>\n",
       "    </tr>\n",
       "  </thead>\n",
       "  <tbody>\n",
       "    <tr>\n",
       "      <th>0</th>\n",
       "      <td>YAL008W</td>\n",
       "      <td>895</td>\n",
       "      <td>709</td>\n",
       "      <td>600</td>\n",
       "      <td>234</td>\n",
       "      <td>495</td>\n",
       "      <td>259</td>\n",
       "      <td>994</td>\n",
       "      <td>764</td>\n",
       "      <td>1052</td>\n",
       "      <td>760</td>\n",
       "    </tr>\n",
       "    <tr>\n",
       "      <th>1</th>\n",
       "      <td>YBR255W</td>\n",
       "      <td>350</td>\n",
       "      <td>638</td>\n",
       "      <td>149</td>\n",
       "      <td>186</td>\n",
       "      <td>128</td>\n",
       "      <td>232</td>\n",
       "      <td>324</td>\n",
       "      <td>672</td>\n",
       "      <td>340</td>\n",
       "      <td>753</td>\n",
       "    </tr>\n",
       "    <tr>\n",
       "      <th>2</th>\n",
       "      <td>YGR131W</td>\n",
       "      <td>31</td>\n",
       "      <td>165</td>\n",
       "      <td>17</td>\n",
       "      <td>66</td>\n",
       "      <td>11</td>\n",
       "      <td>50</td>\n",
       "      <td>38</td>\n",
       "      <td>171</td>\n",
       "      <td>38</td>\n",
       "      <td>152</td>\n",
       "    </tr>\n",
       "    <tr>\n",
       "      <th>3</th>\n",
       "      <td>YPL144W</td>\n",
       "      <td>579</td>\n",
       "      <td>721</td>\n",
       "      <td>209</td>\n",
       "      <td>258</td>\n",
       "      <td>219</td>\n",
       "      <td>248</td>\n",
       "      <td>463</td>\n",
       "      <td>681</td>\n",
       "      <td>469</td>\n",
       "      <td>672</td>\n",
       "    </tr>\n",
       "    <tr>\n",
       "      <th>4</th>\n",
       "      <td>YBR135W</td>\n",
       "      <td>749</td>\n",
       "      <td>380</td>\n",
       "      <td>257</td>\n",
       "      <td>91</td>\n",
       "      <td>234</td>\n",
       "      <td>77</td>\n",
       "      <td>569</td>\n",
       "      <td>367</td>\n",
       "      <td>637</td>\n",
       "      <td>405</td>\n",
       "    </tr>\n",
       "  </tbody>\n",
       "</table>\n",
       "</div>"
      ],
      "text/plain": [
       "       ORF  WT_Ribo  WT_RNA  elp3_Ribo  elp3_RNA  ncs2_Ribo  ncs2_RNA  \\\n",
       "0  YAL008W      895     709        600       234        495       259   \n",
       "1  YBR255W      350     638        149       186        128       232   \n",
       "2  YGR131W       31     165         17        66         11        50   \n",
       "3  YPL144W      579     721        209       258        219       248   \n",
       "4  YBR135W      749     380        257        91        234        77   \n",
       "\n",
       "   ncs6_Ribo  ncs6_RNA  uba4_Ribo  uba4_RNA  \n",
       "0        994       764       1052       760  \n",
       "1        324       672        340       753  \n",
       "2         38       171         38       152  \n",
       "3        463       681        469       672  \n",
       "4        569       367        637       405  "
      ]
     },
     "execution_count": 11,
     "metadata": {},
     "output_type": "execute_result"
    }
   ],
   "source": [
    "test.head()"
   ]
  },
  {
   "cell_type": "code",
   "execution_count": 31,
   "metadata": {},
   "outputs": [
    {
     "data": {
      "text/plain": [
       "<module 'polyan' from 'C:\\\\Users\\\\Tvon-\\\\Dropbox\\\\root\\\\Papers in Progress\\\\Hedayioglu et al Polysomes\\\\polyan\\\\polyan.py'>"
      ]
     },
     "execution_count": 31,
     "metadata": {},
     "output_type": "execute_result"
    }
   ],
   "source": [
    "imp.reload(polyan)"
   ]
  },
  {
   "cell_type": "code",
   "execution_count": 33,
   "metadata": {},
   "outputs": [
    {
     "name": "stdout",
     "output_type": "stream",
     "text": [
      "Using parameterset for Saccharomyces cerevisiae\n"
     ]
    },
    {
     "data": {
      "image/png": "[encoded data removed]",
      "text/plain": [
       "<Figure size 288x216 with 2 Axes>"
      ]
     },
     "metadata": {
      "needs_background": "light"
     },
     "output_type": "display_data"
    }
   ],
   "source": [
    "fig,ax = polyan.compare_profiles(test,test,['ORF','WT_RNA','WT_Ribo'],['ORF','elp3_RNA','elp3_Ribo'],conditions = ['start','stop'])\n",
    "plt.savefig('test.png')"
   ]
  },
  {
   "cell_type": "code",
   "execution_count": 20,
   "metadata": {},
   "outputs": [
    {
     "data": {
      "image/png": "[encoded data removed]",
      "text/plain": [
       "<Figure size 288x216 with 2 Axes>"
      ]
     },
     "metadata": {
      "needs_background": "light"
     },
     "output_type": "display_data"
    }
   ],
   "source": [
    "import matplotlib.pyplot as plt\n",
    "fig,ax = plt.subplots(2,1,constrained_layout=True,figsize = (4,3))\n",
    "plt.show()"
   ]
  },
  {
   "cell_type": "code",
   "execution_count": null,
   "metadata": {},
   "outputs": [],
   "source": []
  },
  {
   "cell_type": "code",
   "execution_count": null,
   "metadata": {},
   "outputs": [],
   "source": []
  },
  {
   "cell_type": "code",
   "execution_count": null,
   "metadata": {},
   "outputs": [],
   "source": []
  },
  {
   "cell_type": "code",
   "execution_count": null,
   "metadata": {},
   "outputs": [],
   "source": []
  },
  {
   "cell_type": "code",
   "execution_count": null,
   "metadata": {},
   "outputs": [],
   "source": []
  },
  {
   "cell_type": "code",
   "execution_count": null,
   "metadata": {},
   "outputs": [],
   "source": []
  },
  {
   "cell_type": "code",
   "execution_count": 67,
   "metadata": {},
   "outputs": [],
   "source": []
  },
  {
   "cell_type": "code",
   "execution_count": null,
   "metadata": {},
   "outputs": [],
   "source": []
  },
  {
   "cell_type": "code",
   "execution_count": null,
   "metadata": {},
   "outputs": [],
   "source": []
  }
 ],
 "metadata": {
  "kernelspec": {
   "display_name": "Python 3",
   "language": "python",
   "name": "python3"
  },
  "language_info": {
   "codemirror_mode": {
    "name": "ipython",
    "version": 3
   },
   "file_extension": ".py",
   "mimetype": "text/x-python",
   "name": "python",
   "nbconvert_exporter": "python",
   "pygments_lexer": "ipython3",
   "version": "3.7.6"
  }
 },
 "nbformat": 4,
 "nbformat_minor": 4
}
