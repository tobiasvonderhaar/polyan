{
 "cells": [
  {
   "cell_type": "code",
   "execution_count": 1,
   "metadata": {},
   "outputs": [],
   "source": [
    "import pandas as pd"
   ]
  },
  {
   "cell_type": "code",
   "execution_count": 15,
   "metadata": {},
   "outputs": [],
   "source": [
    "genes = pd.read_csv('sacCer3.csv')\n",
    "RNA = pd.read_csv('Scer_RNA_reference.csv')"
   ]
  },
  {
   "cell_type": "code",
   "execution_count": 16,
   "metadata": {},
   "outputs": [
    {
     "data": {
      "text/html": [
       "<div>\n",
       "<style scoped>\n",
       "    .dataframe tbody tr th:only-of-type {\n",
       "        vertical-align: middle;\n",
       "    }\n",
       "\n",
       "    .dataframe tbody tr th {\n",
       "        vertical-align: top;\n",
       "    }\n",
       "\n",
       "    .dataframe thead th {\n",
       "        text-align: right;\n",
       "    }\n",
       "</style>\n",
       "<table border=\"1\" class=\"dataframe\">\n",
       "  <thead>\n",
       "    <tr style=\"text-align: right;\">\n",
       "      <th></th>\n",
       "      <th>name</th>\n",
       "      <th>chrom</th>\n",
       "      <th>strand</th>\n",
       "      <th>txStart</th>\n",
       "      <th>txEnd</th>\n",
       "      <th>cdsStart</th>\n",
       "      <th>cdsEnd</th>\n",
       "      <th>exonCount</th>\n",
       "      <th>exonStarts</th>\n",
       "      <th>exonEnds</th>\n",
       "      <th>proteinID</th>\n",
       "      <th>length</th>\n",
       "    </tr>\n",
       "  </thead>\n",
       "  <tbody>\n",
       "    <tr>\n",
       "      <th>0</th>\n",
       "      <td>YAL012W</td>\n",
       "      <td>chrI</td>\n",
       "      <td>+</td>\n",
       "      <td>130798</td>\n",
       "      <td>131983</td>\n",
       "      <td>130798</td>\n",
       "      <td>131983</td>\n",
       "      <td>1</td>\n",
       "      <td>130798,</td>\n",
       "      <td>131983,</td>\n",
       "      <td>CYS3</td>\n",
       "      <td>1185</td>\n",
       "    </tr>\n",
       "    <tr>\n",
       "      <th>1</th>\n",
       "      <td>YAL055W</td>\n",
       "      <td>chrI</td>\n",
       "      <td>+</td>\n",
       "      <td>42176</td>\n",
       "      <td>42719</td>\n",
       "      <td>42176</td>\n",
       "      <td>42719</td>\n",
       "      <td>1</td>\n",
       "      <td>42176,</td>\n",
       "      <td>42719,</td>\n",
       "      <td>PEX22</td>\n",
       "      <td>543</td>\n",
       "    </tr>\n",
       "    <tr>\n",
       "      <th>2</th>\n",
       "      <td>YAL063C</td>\n",
       "      <td>chrI</td>\n",
       "      <td>-</td>\n",
       "      <td>23999</td>\n",
       "      <td>27968</td>\n",
       "      <td>23999</td>\n",
       "      <td>27968</td>\n",
       "      <td>1</td>\n",
       "      <td>23999,</td>\n",
       "      <td>27968,</td>\n",
       "      <td>FLO9</td>\n",
       "      <td>3969</td>\n",
       "    </tr>\n",
       "    <tr>\n",
       "      <th>3</th>\n",
       "      <td>YAL064W</td>\n",
       "      <td>chrI</td>\n",
       "      <td>+</td>\n",
       "      <td>21565</td>\n",
       "      <td>21850</td>\n",
       "      <td>21565</td>\n",
       "      <td>21850</td>\n",
       "      <td>1</td>\n",
       "      <td>21565,</td>\n",
       "      <td>21850,</td>\n",
       "      <td>YAL064W</td>\n",
       "      <td>285</td>\n",
       "    </tr>\n",
       "    <tr>\n",
       "      <th>4</th>\n",
       "      <td>YAL041W</td>\n",
       "      <td>chrI</td>\n",
       "      <td>+</td>\n",
       "      <td>62839</td>\n",
       "      <td>65404</td>\n",
       "      <td>62839</td>\n",
       "      <td>65404</td>\n",
       "      <td>1</td>\n",
       "      <td>62839,</td>\n",
       "      <td>65404,</td>\n",
       "      <td>CDC24</td>\n",
       "      <td>2565</td>\n",
       "    </tr>\n",
       "  </tbody>\n",
       "</table>\n",
       "</div>"
      ],
      "text/plain": [
       "      name chrom strand  txStart   txEnd  cdsStart  cdsEnd  exonCount  \\\n",
       "0  YAL012W  chrI      +   130798  131983    130798  131983          1   \n",
       "1  YAL055W  chrI      +    42176   42719     42176   42719          1   \n",
       "2  YAL063C  chrI      -    23999   27968     23999   27968          1   \n",
       "3  YAL064W  chrI      +    21565   21850     21565   21850          1   \n",
       "4  YAL041W  chrI      +    62839   65404     62839   65404          1   \n",
       "\n",
       "  exonStarts exonEnds proteinID  length  \n",
       "0    130798,  131983,      CYS3    1185  \n",
       "1     42176,   42719,     PEX22     543  \n",
       "2     23999,   27968,      FLO9    3969  \n",
       "3     21565,   21850,   YAL064W     285  \n",
       "4     62839,   65404,     CDC24    2565  "
      ]
     },
     "execution_count": 16,
     "metadata": {},
     "output_type": "execute_result"
    }
   ],
   "source": [
    "genes.head()"
   ]
  },
  {
   "cell_type": "code",
   "execution_count": 5,
   "metadata": {},
   "outputs": [
    {
     "data": {
      "text/html": [
       "<div>\n",
       "<style scoped>\n",
       "    .dataframe tbody tr th:only-of-type {\n",
       "        vertical-align: middle;\n",
       "    }\n",
       "\n",
       "    .dataframe tbody tr th {\n",
       "        vertical-align: top;\n",
       "    }\n",
       "\n",
       "    .dataframe thead th {\n",
       "        text-align: right;\n",
       "    }\n",
       "</style>\n",
       "<table border=\"1\" class=\"dataframe\">\n",
       "  <thead>\n",
       "    <tr style=\"text-align: right;\">\n",
       "      <th></th>\n",
       "      <th>ORF</th>\n",
       "      <th>RNA_Prints</th>\n",
       "    </tr>\n",
       "  </thead>\n",
       "  <tbody>\n",
       "    <tr>\n",
       "      <th>0</th>\n",
       "      <td>ENSG00000000003</td>\n",
       "      <td>141172.12110</td>\n",
       "    </tr>\n",
       "    <tr>\n",
       "      <th>1</th>\n",
       "      <td>ENSG00000000005</td>\n",
       "      <td>141.05239</td>\n",
       "    </tr>\n",
       "    <tr>\n",
       "      <th>2</th>\n",
       "      <td>ENSG00000000419</td>\n",
       "      <td>67003.75258</td>\n",
       "    </tr>\n",
       "    <tr>\n",
       "      <th>3</th>\n",
       "      <td>ENSG00000000457</td>\n",
       "      <td>17719.84729</td>\n",
       "    </tr>\n",
       "    <tr>\n",
       "      <th>4</th>\n",
       "      <td>ENSG00000000460</td>\n",
       "      <td>52828.05349</td>\n",
       "    </tr>\n",
       "  </tbody>\n",
       "</table>\n",
       "</div>"
      ],
      "text/plain": [
       "               ORF    RNA_Prints\n",
       "0  ENSG00000000003  141172.12110\n",
       "1  ENSG00000000005     141.05239\n",
       "2  ENSG00000000419   67003.75258\n",
       "3  ENSG00000000457   17719.84729\n",
       "4  ENSG00000000460   52828.05349"
      ]
     },
     "execution_count": 5,
     "metadata": {},
     "output_type": "execute_result"
    }
   ],
   "source": [
    "RNA.head()"
   ]
  },
  {
   "cell_type": "code",
   "execution_count": 9,
   "metadata": {},
   "outputs": [],
   "source": [
    "combined = genes.merge(RNA, how = 'left',left_on = 'name',right_on = 'ORF')\n",
    "combined = combined[['name','transcript','length','RNA_Prints']]"
   ]
  },
  {
   "cell_type": "code",
   "execution_count": 10,
   "metadata": {},
   "outputs": [
    {
     "data": {
      "text/html": [
       "<div>\n",
       "<style scoped>\n",
       "    .dataframe tbody tr th:only-of-type {\n",
       "        vertical-align: middle;\n",
       "    }\n",
       "\n",
       "    .dataframe tbody tr th {\n",
       "        vertical-align: top;\n",
       "    }\n",
       "\n",
       "    .dataframe thead th {\n",
       "        text-align: right;\n",
       "    }\n",
       "</style>\n",
       "<table border=\"1\" class=\"dataframe\">\n",
       "  <thead>\n",
       "    <tr style=\"text-align: right;\">\n",
       "      <th></th>\n",
       "      <th>name</th>\n",
       "      <th>transcript</th>\n",
       "      <th>length</th>\n",
       "      <th>RNA_Prints</th>\n",
       "    </tr>\n",
       "  </thead>\n",
       "  <tbody>\n",
       "    <tr>\n",
       "      <th>0</th>\n",
       "      <td>ENSG00000210049</td>\n",
       "      <td>ENST00000387314</td>\n",
       "      <td>71</td>\n",
       "      <td>2.201895e+03</td>\n",
       "    </tr>\n",
       "    <tr>\n",
       "      <th>1</th>\n",
       "      <td>ENSG00000211459</td>\n",
       "      <td>ENST00000389680</td>\n",
       "      <td>954</td>\n",
       "      <td>3.981897e+06</td>\n",
       "    </tr>\n",
       "    <tr>\n",
       "      <th>2</th>\n",
       "      <td>ENSG00000210077</td>\n",
       "      <td>ENST00000387342</td>\n",
       "      <td>69</td>\n",
       "      <td>2.430681e+04</td>\n",
       "    </tr>\n",
       "    <tr>\n",
       "      <th>3</th>\n",
       "      <td>ENSG00000210082</td>\n",
       "      <td>ENST00000387347</td>\n",
       "      <td>1559</td>\n",
       "      <td>1.302829e+07</td>\n",
       "    </tr>\n",
       "    <tr>\n",
       "      <th>4</th>\n",
       "      <td>ENSG00000209082</td>\n",
       "      <td>ENST00000386347</td>\n",
       "      <td>75</td>\n",
       "      <td>3.023855e+03</td>\n",
       "    </tr>\n",
       "  </tbody>\n",
       "</table>\n",
       "</div>"
      ],
      "text/plain": [
       "              name       transcript  length    RNA_Prints\n",
       "0  ENSG00000210049  ENST00000387314      71  2.201895e+03\n",
       "1  ENSG00000211459  ENST00000389680     954  3.981897e+06\n",
       "2  ENSG00000210077  ENST00000387342      69  2.430681e+04\n",
       "3  ENSG00000210082  ENST00000387347    1559  1.302829e+07\n",
       "4  ENSG00000209082  ENST00000386347      75  3.023855e+03"
      ]
     },
     "execution_count": 10,
     "metadata": {},
     "output_type": "execute_result"
    }
   ],
   "source": [
    "combined.head()"
   ]
  },
  {
   "cell_type": "code",
   "execution_count": 13,
   "metadata": {},
   "outputs": [
    {
     "data": {
      "text/html": [
       "<div>\n",
       "<style scoped>\n",
       "    .dataframe tbody tr th:only-of-type {\n",
       "        vertical-align: middle;\n",
       "    }\n",
       "\n",
       "    .dataframe tbody tr th {\n",
       "        vertical-align: top;\n",
       "    }\n",
       "\n",
       "    .dataframe thead th {\n",
       "        text-align: right;\n",
       "    }\n",
       "</style>\n",
       "<table border=\"1\" class=\"dataframe\">\n",
       "  <thead>\n",
       "    <tr style=\"text-align: right;\">\n",
       "      <th></th>\n",
       "      <th>name</th>\n",
       "      <th>transcript</th>\n",
       "      <th>length</th>\n",
       "      <th>RNA_Prints</th>\n",
       "    </tr>\n",
       "  </thead>\n",
       "  <tbody>\n",
       "  </tbody>\n",
       "</table>\n",
       "</div>"
      ],
      "text/plain": [
       "Empty DataFrame\n",
       "Columns: [name, transcript, length, RNA_Prints]\n",
       "Index: []"
      ]
     },
     "execution_count": 13,
     "metadata": {},
     "output_type": "execute_result"
    }
   ],
   "source": [
    "combined['RNA_Prints'] = combined['RNA_Prints'].fillna(0)\n",
    "combined.loc[combined['RNA_Prints'].isna()]"
   ]
  },
  {
   "cell_type": "code",
   "execution_count": 14,
   "metadata": {},
   "outputs": [],
   "source": [
    "combined.to_csv('GRCh38.csv')"
   ]
  },
  {
   "cell_type": "code",
   "execution_count": null,
   "metadata": {},
   "outputs": [],
   "source": []
  }
 ],
 "metadata": {
  "kernelspec": {
   "display_name": "Python 3",
   "language": "python",
   "name": "python3"
  },
  "language_info": {
   "codemirror_mode": {
    "name": "ipython",
    "version": 3
   },
   "file_extension": ".py",
   "mimetype": "text/x-python",
   "name": "python",
   "nbconvert_exporter": "python",
   "pygments_lexer": "ipython3",
   "version": "3.7.6"
  }
 },
 "nbformat": 4,
 "nbformat_minor": 4
}
